{
 "cells": [
  {
   "cell_type": "markdown",
   "id": "6f120339",
   "metadata": {
    "id": "6f120339"
   },
   "source": [
    "<h1>Differential Privacy [HW 2 - Diabetes dataset]</h1>\n",
    "\n",
    "I import the libraries needed for this homework:"
   ]
  },
  {
   "cell_type": "code",
   "execution_count": 1,
   "id": "dddabc29",
   "metadata": {
    "id": "dddabc29"
   },
   "outputs": [],
   "source": [
    "import pandas as pd\n",
    "import seaborn as sns\n",
    "import matplotlib.pyplot as plt\n",
    "import numpy.random as npr\n",
    "from faker import Faker"
   ]
  },
  {
   "cell_type": "markdown",
   "id": "de7e107c",
   "metadata": {
    "id": "de7e107c"
   },
   "source": [
    "<p>I read the dataset using pandas:"
   ]
  },
  {
   "cell_type": "code",
   "execution_count": 2,
   "id": "a6beab8e",
   "metadata": {
    "colab": {
     "base_uri": "https://localhost:8080/",
     "height": 659
    },
    "id": "a6beab8e",
    "outputId": "8639a6c3-7393-4848-ff3c-5374b322e85c",
    "scrolled": true
   },
   "outputs": [
    {
     "data": {
      "text/html": [
       "<div>\n",
       "<style scoped>\n",
       "    .dataframe tbody tr th:only-of-type {\n",
       "        vertical-align: middle;\n",
       "    }\n",
       "\n",
       "    .dataframe tbody tr th {\n",
       "        vertical-align: top;\n",
       "    }\n",
       "\n",
       "    .dataframe thead th {\n",
       "        text-align: right;\n",
       "    }\n",
       "</style>\n",
       "<table border=\"1\" class=\"dataframe\">\n",
       "  <thead>\n",
       "    <tr style=\"text-align: right;\">\n",
       "      <th></th>\n",
       "      <th>Pregnancies</th>\n",
       "      <th>Glucose</th>\n",
       "      <th>BloodPressure</th>\n",
       "      <th>SkinThickness</th>\n",
       "      <th>Insulin</th>\n",
       "      <th>BMI</th>\n",
       "      <th>DiabetesPedigreeFunction</th>\n",
       "      <th>Age</th>\n",
       "      <th>Outcome</th>\n",
       "    </tr>\n",
       "  </thead>\n",
       "  <tbody>\n",
       "    <tr>\n",
       "      <th>0</th>\n",
       "      <td>6</td>\n",
       "      <td>148</td>\n",
       "      <td>72</td>\n",
       "      <td>35</td>\n",
       "      <td>0</td>\n",
       "      <td>33.6</td>\n",
       "      <td>0.627</td>\n",
       "      <td>50</td>\n",
       "      <td>1</td>\n",
       "    </tr>\n",
       "    <tr>\n",
       "      <th>1</th>\n",
       "      <td>1</td>\n",
       "      <td>85</td>\n",
       "      <td>66</td>\n",
       "      <td>29</td>\n",
       "      <td>0</td>\n",
       "      <td>26.6</td>\n",
       "      <td>0.351</td>\n",
       "      <td>31</td>\n",
       "      <td>0</td>\n",
       "    </tr>\n",
       "    <tr>\n",
       "      <th>2</th>\n",
       "      <td>8</td>\n",
       "      <td>183</td>\n",
       "      <td>64</td>\n",
       "      <td>0</td>\n",
       "      <td>0</td>\n",
       "      <td>23.3</td>\n",
       "      <td>0.672</td>\n",
       "      <td>32</td>\n",
       "      <td>1</td>\n",
       "    </tr>\n",
       "    <tr>\n",
       "      <th>3</th>\n",
       "      <td>1</td>\n",
       "      <td>89</td>\n",
       "      <td>66</td>\n",
       "      <td>23</td>\n",
       "      <td>94</td>\n",
       "      <td>28.1</td>\n",
       "      <td>0.167</td>\n",
       "      <td>21</td>\n",
       "      <td>0</td>\n",
       "    </tr>\n",
       "    <tr>\n",
       "      <th>4</th>\n",
       "      <td>0</td>\n",
       "      <td>137</td>\n",
       "      <td>40</td>\n",
       "      <td>35</td>\n",
       "      <td>168</td>\n",
       "      <td>43.1</td>\n",
       "      <td>2.288</td>\n",
       "      <td>33</td>\n",
       "      <td>1</td>\n",
       "    </tr>\n",
       "    <tr>\n",
       "      <th>...</th>\n",
       "      <td>...</td>\n",
       "      <td>...</td>\n",
       "      <td>...</td>\n",
       "      <td>...</td>\n",
       "      <td>...</td>\n",
       "      <td>...</td>\n",
       "      <td>...</td>\n",
       "      <td>...</td>\n",
       "      <td>...</td>\n",
       "    </tr>\n",
       "    <tr>\n",
       "      <th>763</th>\n",
       "      <td>10</td>\n",
       "      <td>101</td>\n",
       "      <td>76</td>\n",
       "      <td>48</td>\n",
       "      <td>180</td>\n",
       "      <td>32.9</td>\n",
       "      <td>0.171</td>\n",
       "      <td>63</td>\n",
       "      <td>0</td>\n",
       "    </tr>\n",
       "    <tr>\n",
       "      <th>764</th>\n",
       "      <td>2</td>\n",
       "      <td>122</td>\n",
       "      <td>70</td>\n",
       "      <td>27</td>\n",
       "      <td>0</td>\n",
       "      <td>36.8</td>\n",
       "      <td>0.340</td>\n",
       "      <td>27</td>\n",
       "      <td>0</td>\n",
       "    </tr>\n",
       "    <tr>\n",
       "      <th>765</th>\n",
       "      <td>5</td>\n",
       "      <td>121</td>\n",
       "      <td>72</td>\n",
       "      <td>23</td>\n",
       "      <td>112</td>\n",
       "      <td>26.2</td>\n",
       "      <td>0.245</td>\n",
       "      <td>30</td>\n",
       "      <td>0</td>\n",
       "    </tr>\n",
       "    <tr>\n",
       "      <th>766</th>\n",
       "      <td>1</td>\n",
       "      <td>126</td>\n",
       "      <td>60</td>\n",
       "      <td>0</td>\n",
       "      <td>0</td>\n",
       "      <td>30.1</td>\n",
       "      <td>0.349</td>\n",
       "      <td>47</td>\n",
       "      <td>1</td>\n",
       "    </tr>\n",
       "    <tr>\n",
       "      <th>767</th>\n",
       "      <td>1</td>\n",
       "      <td>93</td>\n",
       "      <td>70</td>\n",
       "      <td>31</td>\n",
       "      <td>0</td>\n",
       "      <td>30.4</td>\n",
       "      <td>0.315</td>\n",
       "      <td>23</td>\n",
       "      <td>0</td>\n",
       "    </tr>\n",
       "  </tbody>\n",
       "</table>\n",
       "<p>768 rows × 9 columns</p>\n",
       "</div>"
      ],
      "text/plain": [
       "     Pregnancies  Glucose  BloodPressure  SkinThickness  Insulin   BMI  \\\n",
       "0              6      148             72             35        0  33.6   \n",
       "1              1       85             66             29        0  26.6   \n",
       "2              8      183             64              0        0  23.3   \n",
       "3              1       89             66             23       94  28.1   \n",
       "4              0      137             40             35      168  43.1   \n",
       "..           ...      ...            ...            ...      ...   ...   \n",
       "763           10      101             76             48      180  32.9   \n",
       "764            2      122             70             27        0  36.8   \n",
       "765            5      121             72             23      112  26.2   \n",
       "766            1      126             60              0        0  30.1   \n",
       "767            1       93             70             31        0  30.4   \n",
       "\n",
       "     DiabetesPedigreeFunction  Age  Outcome  \n",
       "0                       0.627   50        1  \n",
       "1                       0.351   31        0  \n",
       "2                       0.672   32        1  \n",
       "3                       0.167   21        0  \n",
       "4                       2.288   33        1  \n",
       "..                        ...  ...      ...  \n",
       "763                     0.171   63        0  \n",
       "764                     0.340   27        0  \n",
       "765                     0.245   30        0  \n",
       "766                     0.349   47        1  \n",
       "767                     0.315   23        0  \n",
       "\n",
       "[768 rows x 9 columns]"
      ]
     },
     "execution_count": 2,
     "metadata": {},
     "output_type": "execute_result"
    }
   ],
   "source": [
    "diabetes_ds = pd.read_csv(\"diabetes.csv\")\n",
    "\n",
    "# display dataset\n",
    "diabetes_ds"
   ]
  },
  {
   "cell_type": "markdown",
   "id": "b2f59a04",
   "metadata": {},
   "source": [
    "Since this dataset has been \"anonymized\",  it does not contain PII. I have included additional fake information to make it more interesting (e.g., SSN):"
   ]
  },
  {
   "cell_type": "code",
   "execution_count": 3,
   "id": "5f2edbce",
   "metadata": {},
   "outputs": [],
   "source": [
    "name_list = []\n",
    "ssn_list = []\n",
    "job_list = []\n",
    "\n",
    "\n",
    "# use italian locale\n",
    "fake = Faker('it_IT')\n",
    "\n",
    "# generate fake data for all entries\n",
    "for _ in range(768):\n",
    "    name_list.append(fake.name_female())\n",
    "    ssn_list.append(fake.ssn())\n",
    "    job_list.append(fake.job())\n",
    "    \n",
    "# add new columns to csv file\n",
    "diabetes_ds['Name'] = name_list\n",
    "diabetes_ds['SSN'] = ssn_list \n",
    "diabetes_ds['Job'] = job_list \n",
    "\n",
    "diabetes_ds = diabetes_ds[['Name', 'SSN', 'Age', 'Job', 'Pregnancies', \n",
    "                           'Glucose', 'BloodPressure', 'SkinThickness', 'Insulin', \n",
    "                           'BMI', 'DiabetesPedigreeFunction', 'Outcome']]\n",
    "\n",
    "# save the dataset\n",
    "diabetes_ds.to_csv('output.csv')"
   ]
  },
  {
   "cell_type": "markdown",
   "id": "3dcd51e4",
   "metadata": {},
   "source": [
    "I read the dataset to see how it changed from the previous dataset, which can be found on Kaggle:"
   ]
  },
  {
   "cell_type": "code",
   "execution_count": 4,
   "id": "ff9275c7",
   "metadata": {},
   "outputs": [
    {
     "data": {
      "text/html": [
       "<div>\n",
       "<style scoped>\n",
       "    .dataframe tbody tr th:only-of-type {\n",
       "        vertical-align: middle;\n",
       "    }\n",
       "\n",
       "    .dataframe tbody tr th {\n",
       "        vertical-align: top;\n",
       "    }\n",
       "\n",
       "    .dataframe thead th {\n",
       "        text-align: right;\n",
       "    }\n",
       "</style>\n",
       "<table border=\"1\" class=\"dataframe\">\n",
       "  <thead>\n",
       "    <tr style=\"text-align: right;\">\n",
       "      <th></th>\n",
       "      <th>Unnamed: 0</th>\n",
       "      <th>Name</th>\n",
       "      <th>SSN</th>\n",
       "      <th>Age</th>\n",
       "      <th>Job</th>\n",
       "      <th>Pregnancies</th>\n",
       "      <th>Glucose</th>\n",
       "      <th>BloodPressure</th>\n",
       "      <th>SkinThickness</th>\n",
       "      <th>Insulin</th>\n",
       "      <th>BMI</th>\n",
       "      <th>DiabetesPedigreeFunction</th>\n",
       "      <th>Outcome</th>\n",
       "    </tr>\n",
       "  </thead>\n",
       "  <tbody>\n",
       "    <tr>\n",
       "      <th>0</th>\n",
       "      <td>0</td>\n",
       "      <td>Dott. Rosina Perozzo</td>\n",
       "      <td>LDBTTN88M10D144M</td>\n",
       "      <td>50</td>\n",
       "      <td>Operational researcher</td>\n",
       "      <td>6</td>\n",
       "      <td>148</td>\n",
       "      <td>72</td>\n",
       "      <td>35</td>\n",
       "      <td>0</td>\n",
       "      <td>33.6</td>\n",
       "      <td>0.627</td>\n",
       "      <td>1</td>\n",
       "    </tr>\n",
       "    <tr>\n",
       "      <th>1</th>\n",
       "      <td>1</td>\n",
       "      <td>Graziella Franceschi</td>\n",
       "      <td>CMSGNG18A68A991V</td>\n",
       "      <td>31</td>\n",
       "      <td>Engineer, technical sales</td>\n",
       "      <td>1</td>\n",
       "      <td>85</td>\n",
       "      <td>66</td>\n",
       "      <td>29</td>\n",
       "      <td>0</td>\n",
       "      <td>26.6</td>\n",
       "      <td>0.351</td>\n",
       "      <td>0</td>\n",
       "    </tr>\n",
       "    <tr>\n",
       "      <th>2</th>\n",
       "      <td>2</td>\n",
       "      <td>Iolanda Zito</td>\n",
       "      <td>FOSTN13R23E566Q</td>\n",
       "      <td>32</td>\n",
       "      <td>Information officer</td>\n",
       "      <td>8</td>\n",
       "      <td>183</td>\n",
       "      <td>64</td>\n",
       "      <td>0</td>\n",
       "      <td>0</td>\n",
       "      <td>23.3</td>\n",
       "      <td>0.672</td>\n",
       "      <td>1</td>\n",
       "    </tr>\n",
       "    <tr>\n",
       "      <th>3</th>\n",
       "      <td>3</td>\n",
       "      <td>Allegra Scaramucci</td>\n",
       "      <td>GRNLRZ69M54E588O</td>\n",
       "      <td>21</td>\n",
       "      <td>Designer, industrial/product</td>\n",
       "      <td>1</td>\n",
       "      <td>89</td>\n",
       "      <td>66</td>\n",
       "      <td>23</td>\n",
       "      <td>94</td>\n",
       "      <td>28.1</td>\n",
       "      <td>0.167</td>\n",
       "      <td>0</td>\n",
       "    </tr>\n",
       "    <tr>\n",
       "      <th>4</th>\n",
       "      <td>4</td>\n",
       "      <td>Viridiana Canetta-Saraceno</td>\n",
       "      <td>VRGLSN75M19B076I</td>\n",
       "      <td>33</td>\n",
       "      <td>Energy manager</td>\n",
       "      <td>0</td>\n",
       "      <td>137</td>\n",
       "      <td>40</td>\n",
       "      <td>35</td>\n",
       "      <td>168</td>\n",
       "      <td>43.1</td>\n",
       "      <td>2.288</td>\n",
       "      <td>1</td>\n",
       "    </tr>\n",
       "  </tbody>\n",
       "</table>\n",
       "</div>"
      ],
      "text/plain": [
       "   Unnamed: 0                        Name               SSN  Age  \\\n",
       "0           0        Dott. Rosina Perozzo  LDBTTN88M10D144M   50   \n",
       "1           1        Graziella Franceschi  CMSGNG18A68A991V   31   \n",
       "2           2                Iolanda Zito   FOSTN13R23E566Q   32   \n",
       "3           3          Allegra Scaramucci  GRNLRZ69M54E588O   21   \n",
       "4           4  Viridiana Canetta-Saraceno  VRGLSN75M19B076I   33   \n",
       "\n",
       "                            Job  Pregnancies  Glucose  BloodPressure  \\\n",
       "0        Operational researcher            6      148             72   \n",
       "1     Engineer, technical sales            1       85             66   \n",
       "2           Information officer            8      183             64   \n",
       "3  Designer, industrial/product            1       89             66   \n",
       "4                Energy manager            0      137             40   \n",
       "\n",
       "   SkinThickness  Insulin   BMI  DiabetesPedigreeFunction  Outcome  \n",
       "0             35        0  33.6                     0.627        1  \n",
       "1             29        0  26.6                     0.351        0  \n",
       "2              0        0  23.3                     0.672        1  \n",
       "3             23       94  28.1                     0.167        0  \n",
       "4             35      168  43.1                     2.288        1  "
      ]
     },
     "execution_count": 4,
     "metadata": {},
     "output_type": "execute_result"
    }
   ],
   "source": [
    "# read new dataset\n",
    "diabetes_dataset = pd.read_csv(\"output.csv\")\n",
    "diabetes_dataset.head()"
   ]
  },
  {
   "cell_type": "markdown",
   "id": "f354450c",
   "metadata": {},
   "source": [
    "## Histograms"
   ]
  },
  {
   "cell_type": "code",
   "execution_count": 5,
   "id": "b868a81e",
   "metadata": {
    "id": "b868a81e",
    "outputId": "bc21525e-3852-4782-91b2-4d4a06702e7b"
   },
   "outputs": [
    {
     "data": {
      "text/plain": [
       "<AxesSubplot:xlabel='Age', ylabel='Count'>"
      ]
     },
     "execution_count": 5,
     "metadata": {},
     "output_type": "execute_result"
    },
    {
     "data": {
      "image/png": "[encoded data removed]",
      "text/plain": [
       "<Figure size 640x480 with 1 Axes>"
      ]
     },
     "metadata": {},
     "output_type": "display_data"
    }
   ],
   "source": [
    "sns.histplot(data=diabetes_dataset, x='Age', bins=20)"
   ]
  },
  {
   "cell_type": "code",
   "execution_count": 6,
   "id": "0206dfe7",
   "metadata": {
    "colab": {
     "base_uri": "https://localhost:8080/",
     "height": 297
    },
    "id": "0206dfe7",
    "outputId": "b32c7e0a-268a-4a99-b9f0-6986a5c84dc8"
   },
   "outputs": [
    {
     "data": {
      "text/plain": [
       "<AxesSubplot:xlabel='Pregnancies', ylabel='Count'>"
      ]
     },
     "execution_count": 6,
     "metadata": {},
     "output_type": "execute_result"
    },
    {
     "data": {
      "image/png": "[encoded data removed]",
      "text/plain": [
       "<Figure size 640x480 with 1 Axes>"
      ]
     },
     "metadata": {},
     "output_type": "display_data"
    }
   ],
   "source": [
    "sns.histplot(data=diabetes_dataset, x='Pregnancies', bins=20)"
   ]
  },
  {
   "cell_type": "markdown",
   "id": "a498c577",
   "metadata": {
    "id": "a498c577"
   },
   "source": [
    "### K-anonymity\n",
    "Here, K-anonymity was implemented based on the definition we saw in the lecture. Basically, we are iterating over each row within our dataset and checking if they have the same value for quasi-identifiers. If the number is less than k, then it does not satisfy k-anonymity."
   ]
  },
  {
   "cell_type": "code",
   "execution_count": 7,
   "id": "49b857db",
   "metadata": {
    "id": "49b857db"
   },
   "outputs": [],
   "source": [
    "# Define k-anonymity function\n",
    "def is_kanonymous(dataset, k_value):\n",
    "  # Loop over each row in the table\n",
    "  for idx, row in dataset.iterrows():\n",
    "      query = ' & '.join([f'{col} == {row[col]}' for col in dataset.columns])\n",
    "      rows = dataset.query(query)\n",
    "      # If number is smaller than k, then it is false, else true\n",
    "      if rows.shape[0] < k_value:\n",
    "        return False\n",
    "  return True"
   ]
  },
  {
   "cell_type": "markdown",
   "id": "2768c28a",
   "metadata": {
    "id": "2768c28a"
   },
   "source": [
    "Now, we check to see if this dataset satisfies k-anonymity if k = 1:"
   ]
  },
  {
   "cell_type": "code",
   "execution_count": 8,
   "id": "4f6c8da5",
   "metadata": {
    "colab": {
     "base_uri": "https://localhost:8080/",
     "height": 817
    },
    "id": "4f6c8da5",
    "outputId": "e8359b96-a781-4439-c631-5977c60243e5"
   },
   "outputs": [
    {
     "data": {
      "text/plain": [
       "True"
      ]
     },
     "execution_count": 8,
     "metadata": {},
     "output_type": "execute_result"
    }
   ],
   "source": [
    "diabetes_ds = pd.read_csv(\"diabetes.csv\")\n",
    "\n",
    "is_kanonymous(dataset=diabetes_ds, k_value=1)"
   ]
  },
  {
   "cell_type": "markdown",
   "id": "8cff12cd",
   "metadata": {},
   "source": [
    "As we discussed in the lectures, two values for k should be avoided: when k is equal to 1 and when it is equal to n (the dimension of the dataset). "
   ]
  },
  {
   "cell_type": "markdown",
   "id": "6b9facfd",
   "metadata": {},
   "source": [
    "I will keep increasing the value for k to see if the result changes:"
   ]
  },
  {
   "cell_type": "code",
   "execution_count": 9,
   "id": "bb7c0883",
   "metadata": {},
   "outputs": [
    {
     "data": {
      "text/plain": [
       "False"
      ]
     },
     "execution_count": 9,
     "metadata": {},
     "output_type": "execute_result"
    }
   ],
   "source": [
    "is_kanonymous(diabetes_ds, k_value=50)"
   ]
  },
  {
   "cell_type": "markdown",
   "id": "7a8448c8",
   "metadata": {},
   "source": [
    "It is false, which makes it problematic for us. We can perform generalization or suppression to achieve privacy."
   ]
  },
  {
   "cell_type": "markdown",
   "id": "65311939",
   "metadata": {
    "id": "65311939"
   },
   "source": [
    "### Generalization\n",
    "We can use generalization as a method to try to achieve k-anonymity. But this has its own set of disadvantages. If we generalize too much, we will lose the data that made the dataset valuable in the first place:"
   ]
  },
  {
   "cell_type": "code",
   "execution_count": 10,
   "id": "b19e63d4",
   "metadata": {
    "id": "b19e63d4",
    "outputId": "439f297f-2d54-4786-e73e-764965be8401"
   },
   "outputs": [],
   "source": [
    "def generalization_function(dataset, gen_degree):\n",
    "    return dataset.apply(lambda element: element.apply(lambda target: int(int(target/(10**gen_degree[element.name]))*(10**gen_degree[element.name]))))"
   ]
  },
  {
   "cell_type": "code",
   "execution_count": 11,
   "id": "0c969328",
   "metadata": {
    "id": "0c969328",
    "outputId": "54c65c0d-8136-4647-d71f-a5cf38ebcd99"
   },
   "outputs": [],
   "source": [
    "generalization_degree = {\n",
    "    'Age': 1,\n",
    "    'Pregnancies': 1,\n",
    "    'Glucose': 1,\n",
    "    'BloodPressure': 1,\n",
    "    'SkinThickness': 1,\n",
    "    'Insulin': 1,\n",
    "    'BMI': 1,\n",
    "    'DiabetesPedigreeFunction': 1,\n",
    "    'Outcome': 1\n",
    "}"
   ]
  },
  {
   "cell_type": "markdown",
   "id": "b40c5deb",
   "metadata": {},
   "source": [
    "Now I'll try to generalize by one:"
   ]
  },
  {
   "cell_type": "code",
   "execution_count": 12,
   "id": "7851f4e5",
   "metadata": {},
   "outputs": [
    {
     "data": {
      "text/html": [
       "<div>\n",
       "<style scoped>\n",
       "    .dataframe tbody tr th:only-of-type {\n",
       "        vertical-align: middle;\n",
       "    }\n",
       "\n",
       "    .dataframe tbody tr th {\n",
       "        vertical-align: top;\n",
       "    }\n",
       "\n",
       "    .dataframe thead th {\n",
       "        text-align: right;\n",
       "    }\n",
       "</style>\n",
       "<table border=\"1\" class=\"dataframe\">\n",
       "  <thead>\n",
       "    <tr style=\"text-align: right;\">\n",
       "      <th></th>\n",
       "      <th>Pregnancies</th>\n",
       "      <th>Glucose</th>\n",
       "      <th>BloodPressure</th>\n",
       "      <th>SkinThickness</th>\n",
       "      <th>Insulin</th>\n",
       "      <th>BMI</th>\n",
       "      <th>DiabetesPedigreeFunction</th>\n",
       "      <th>Age</th>\n",
       "      <th>Outcome</th>\n",
       "    </tr>\n",
       "  </thead>\n",
       "  <tbody>\n",
       "    <tr>\n",
       "      <th>0</th>\n",
       "      <td>0</td>\n",
       "      <td>140</td>\n",
       "      <td>70</td>\n",
       "      <td>30</td>\n",
       "      <td>0</td>\n",
       "      <td>30</td>\n",
       "      <td>0</td>\n",
       "      <td>50</td>\n",
       "      <td>0</td>\n",
       "    </tr>\n",
       "    <tr>\n",
       "      <th>1</th>\n",
       "      <td>0</td>\n",
       "      <td>80</td>\n",
       "      <td>60</td>\n",
       "      <td>20</td>\n",
       "      <td>0</td>\n",
       "      <td>20</td>\n",
       "      <td>0</td>\n",
       "      <td>30</td>\n",
       "      <td>0</td>\n",
       "    </tr>\n",
       "    <tr>\n",
       "      <th>2</th>\n",
       "      <td>0</td>\n",
       "      <td>180</td>\n",
       "      <td>60</td>\n",
       "      <td>0</td>\n",
       "      <td>0</td>\n",
       "      <td>20</td>\n",
       "      <td>0</td>\n",
       "      <td>30</td>\n",
       "      <td>0</td>\n",
       "    </tr>\n",
       "    <tr>\n",
       "      <th>3</th>\n",
       "      <td>0</td>\n",
       "      <td>80</td>\n",
       "      <td>60</td>\n",
       "      <td>20</td>\n",
       "      <td>90</td>\n",
       "      <td>20</td>\n",
       "      <td>0</td>\n",
       "      <td>20</td>\n",
       "      <td>0</td>\n",
       "    </tr>\n",
       "    <tr>\n",
       "      <th>4</th>\n",
       "      <td>0</td>\n",
       "      <td>130</td>\n",
       "      <td>40</td>\n",
       "      <td>30</td>\n",
       "      <td>160</td>\n",
       "      <td>40</td>\n",
       "      <td>0</td>\n",
       "      <td>30</td>\n",
       "      <td>0</td>\n",
       "    </tr>\n",
       "    <tr>\n",
       "      <th>...</th>\n",
       "      <td>...</td>\n",
       "      <td>...</td>\n",
       "      <td>...</td>\n",
       "      <td>...</td>\n",
       "      <td>...</td>\n",
       "      <td>...</td>\n",
       "      <td>...</td>\n",
       "      <td>...</td>\n",
       "      <td>...</td>\n",
       "    </tr>\n",
       "    <tr>\n",
       "      <th>763</th>\n",
       "      <td>10</td>\n",
       "      <td>100</td>\n",
       "      <td>70</td>\n",
       "      <td>40</td>\n",
       "      <td>180</td>\n",
       "      <td>30</td>\n",
       "      <td>0</td>\n",
       "      <td>60</td>\n",
       "      <td>0</td>\n",
       "    </tr>\n",
       "    <tr>\n",
       "      <th>764</th>\n",
       "      <td>0</td>\n",
       "      <td>120</td>\n",
       "      <td>70</td>\n",
       "      <td>20</td>\n",
       "      <td>0</td>\n",
       "      <td>30</td>\n",
       "      <td>0</td>\n",
       "      <td>20</td>\n",
       "      <td>0</td>\n",
       "    </tr>\n",
       "    <tr>\n",
       "      <th>765</th>\n",
       "      <td>0</td>\n",
       "      <td>120</td>\n",
       "      <td>70</td>\n",
       "      <td>20</td>\n",
       "      <td>110</td>\n",
       "      <td>20</td>\n",
       "      <td>0</td>\n",
       "      <td>30</td>\n",
       "      <td>0</td>\n",
       "    </tr>\n",
       "    <tr>\n",
       "      <th>766</th>\n",
       "      <td>0</td>\n",
       "      <td>120</td>\n",
       "      <td>60</td>\n",
       "      <td>0</td>\n",
       "      <td>0</td>\n",
       "      <td>30</td>\n",
       "      <td>0</td>\n",
       "      <td>40</td>\n",
       "      <td>0</td>\n",
       "    </tr>\n",
       "    <tr>\n",
       "      <th>767</th>\n",
       "      <td>0</td>\n",
       "      <td>90</td>\n",
       "      <td>70</td>\n",
       "      <td>30</td>\n",
       "      <td>0</td>\n",
       "      <td>30</td>\n",
       "      <td>0</td>\n",
       "      <td>20</td>\n",
       "      <td>0</td>\n",
       "    </tr>\n",
       "  </tbody>\n",
       "</table>\n",
       "<p>768 rows × 9 columns</p>\n",
       "</div>"
      ],
      "text/plain": [
       "     Pregnancies  Glucose  BloodPressure  SkinThickness  Insulin  BMI  \\\n",
       "0              0      140             70             30        0   30   \n",
       "1              0       80             60             20        0   20   \n",
       "2              0      180             60              0        0   20   \n",
       "3              0       80             60             20       90   20   \n",
       "4              0      130             40             30      160   40   \n",
       "..           ...      ...            ...            ...      ...  ...   \n",
       "763           10      100             70             40      180   30   \n",
       "764            0      120             70             20        0   30   \n",
       "765            0      120             70             20      110   20   \n",
       "766            0      120             60              0        0   30   \n",
       "767            0       90             70             30        0   30   \n",
       "\n",
       "     DiabetesPedigreeFunction  Age  Outcome  \n",
       "0                           0   50        0  \n",
       "1                           0   30        0  \n",
       "2                           0   30        0  \n",
       "3                           0   20        0  \n",
       "4                           0   30        0  \n",
       "..                        ...  ...      ...  \n",
       "763                         0   60        0  \n",
       "764                         0   20        0  \n",
       "765                         0   30        0  \n",
       "766                         0   40        0  \n",
       "767                         0   20        0  \n",
       "\n",
       "[768 rows x 9 columns]"
      ]
     },
     "execution_count": 12,
     "metadata": {},
     "output_type": "execute_result"
    }
   ],
   "source": [
    "generalization_function(diabetes_ds, generalization_degree)"
   ]
  },
  {
   "cell_type": "code",
   "execution_count": 13,
   "id": "bcc5652c",
   "metadata": {},
   "outputs": [
    {
     "data": {
      "text/plain": [
       "False"
      ]
     },
     "execution_count": 13,
     "metadata": {},
     "output_type": "execute_result"
    }
   ],
   "source": [
    "is_kanonymous(generalization_function(diabetes_ds, generalization_degree), 2)"
   ]
  },
  {
   "cell_type": "markdown",
   "id": "7d722f9a",
   "metadata": {},
   "source": [
    "I have to increase the degree of generalization to achieve privacy, meaning I will lose a large amount of information."
   ]
  },
  {
   "cell_type": "code",
   "execution_count": 14,
   "id": "4f9fab60",
   "metadata": {},
   "outputs": [
    {
     "data": {
      "text/html": [
       "<div>\n",
       "<style scoped>\n",
       "    .dataframe tbody tr th:only-of-type {\n",
       "        vertical-align: middle;\n",
       "    }\n",
       "\n",
       "    .dataframe tbody tr th {\n",
       "        vertical-align: top;\n",
       "    }\n",
       "\n",
       "    .dataframe thead th {\n",
       "        text-align: right;\n",
       "    }\n",
       "</style>\n",
       "<table border=\"1\" class=\"dataframe\">\n",
       "  <thead>\n",
       "    <tr style=\"text-align: right;\">\n",
       "      <th></th>\n",
       "      <th>Pregnancies</th>\n",
       "      <th>Glucose</th>\n",
       "      <th>BloodPressure</th>\n",
       "      <th>SkinThickness</th>\n",
       "      <th>Insulin</th>\n",
       "      <th>BMI</th>\n",
       "      <th>DiabetesPedigreeFunction</th>\n",
       "      <th>Age</th>\n",
       "      <th>Outcome</th>\n",
       "    </tr>\n",
       "  </thead>\n",
       "  <tbody>\n",
       "    <tr>\n",
       "      <th>0</th>\n",
       "      <td>0</td>\n",
       "      <td>0</td>\n",
       "      <td>0</td>\n",
       "      <td>0</td>\n",
       "      <td>0</td>\n",
       "      <td>0</td>\n",
       "      <td>0</td>\n",
       "      <td>0</td>\n",
       "      <td>0</td>\n",
       "    </tr>\n",
       "    <tr>\n",
       "      <th>1</th>\n",
       "      <td>0</td>\n",
       "      <td>0</td>\n",
       "      <td>0</td>\n",
       "      <td>0</td>\n",
       "      <td>0</td>\n",
       "      <td>0</td>\n",
       "      <td>0</td>\n",
       "      <td>0</td>\n",
       "      <td>0</td>\n",
       "    </tr>\n",
       "    <tr>\n",
       "      <th>2</th>\n",
       "      <td>0</td>\n",
       "      <td>0</td>\n",
       "      <td>0</td>\n",
       "      <td>0</td>\n",
       "      <td>0</td>\n",
       "      <td>0</td>\n",
       "      <td>0</td>\n",
       "      <td>0</td>\n",
       "      <td>0</td>\n",
       "    </tr>\n",
       "    <tr>\n",
       "      <th>3</th>\n",
       "      <td>0</td>\n",
       "      <td>0</td>\n",
       "      <td>0</td>\n",
       "      <td>0</td>\n",
       "      <td>0</td>\n",
       "      <td>0</td>\n",
       "      <td>0</td>\n",
       "      <td>0</td>\n",
       "      <td>0</td>\n",
       "    </tr>\n",
       "    <tr>\n",
       "      <th>4</th>\n",
       "      <td>0</td>\n",
       "      <td>0</td>\n",
       "      <td>0</td>\n",
       "      <td>0</td>\n",
       "      <td>0</td>\n",
       "      <td>0</td>\n",
       "      <td>0</td>\n",
       "      <td>0</td>\n",
       "      <td>0</td>\n",
       "    </tr>\n",
       "    <tr>\n",
       "      <th>...</th>\n",
       "      <td>...</td>\n",
       "      <td>...</td>\n",
       "      <td>...</td>\n",
       "      <td>...</td>\n",
       "      <td>...</td>\n",
       "      <td>...</td>\n",
       "      <td>...</td>\n",
       "      <td>...</td>\n",
       "      <td>...</td>\n",
       "    </tr>\n",
       "    <tr>\n",
       "      <th>763</th>\n",
       "      <td>0</td>\n",
       "      <td>0</td>\n",
       "      <td>0</td>\n",
       "      <td>0</td>\n",
       "      <td>0</td>\n",
       "      <td>0</td>\n",
       "      <td>0</td>\n",
       "      <td>0</td>\n",
       "      <td>0</td>\n",
       "    </tr>\n",
       "    <tr>\n",
       "      <th>764</th>\n",
       "      <td>0</td>\n",
       "      <td>0</td>\n",
       "      <td>0</td>\n",
       "      <td>0</td>\n",
       "      <td>0</td>\n",
       "      <td>0</td>\n",
       "      <td>0</td>\n",
       "      <td>0</td>\n",
       "      <td>0</td>\n",
       "    </tr>\n",
       "    <tr>\n",
       "      <th>765</th>\n",
       "      <td>0</td>\n",
       "      <td>0</td>\n",
       "      <td>0</td>\n",
       "      <td>0</td>\n",
       "      <td>0</td>\n",
       "      <td>0</td>\n",
       "      <td>0</td>\n",
       "      <td>0</td>\n",
       "      <td>0</td>\n",
       "    </tr>\n",
       "    <tr>\n",
       "      <th>766</th>\n",
       "      <td>0</td>\n",
       "      <td>0</td>\n",
       "      <td>0</td>\n",
       "      <td>0</td>\n",
       "      <td>0</td>\n",
       "      <td>0</td>\n",
       "      <td>0</td>\n",
       "      <td>0</td>\n",
       "      <td>0</td>\n",
       "    </tr>\n",
       "    <tr>\n",
       "      <th>767</th>\n",
       "      <td>0</td>\n",
       "      <td>0</td>\n",
       "      <td>0</td>\n",
       "      <td>0</td>\n",
       "      <td>0</td>\n",
       "      <td>0</td>\n",
       "      <td>0</td>\n",
       "      <td>0</td>\n",
       "      <td>0</td>\n",
       "    </tr>\n",
       "  </tbody>\n",
       "</table>\n",
       "<p>768 rows × 9 columns</p>\n",
       "</div>"
      ],
      "text/plain": [
       "     Pregnancies  Glucose  BloodPressure  SkinThickness  Insulin  BMI  \\\n",
       "0              0        0              0              0        0    0   \n",
       "1              0        0              0              0        0    0   \n",
       "2              0        0              0              0        0    0   \n",
       "3              0        0              0              0        0    0   \n",
       "4              0        0              0              0        0    0   \n",
       "..           ...      ...            ...            ...      ...  ...   \n",
       "763            0        0              0              0        0    0   \n",
       "764            0        0              0              0        0    0   \n",
       "765            0        0              0              0        0    0   \n",
       "766            0        0              0              0        0    0   \n",
       "767            0        0              0              0        0    0   \n",
       "\n",
       "     DiabetesPedigreeFunction  Age  Outcome  \n",
       "0                           0    0        0  \n",
       "1                           0    0        0  \n",
       "2                           0    0        0  \n",
       "3                           0    0        0  \n",
       "4                           0    0        0  \n",
       "..                        ...  ...      ...  \n",
       "763                         0    0        0  \n",
       "764                         0    0        0  \n",
       "765                         0    0        0  \n",
       "766                         0    0        0  \n",
       "767                         0    0        0  \n",
       "\n",
       "[768 rows x 9 columns]"
      ]
     },
     "execution_count": 14,
     "metadata": {},
     "output_type": "execute_result"
    }
   ],
   "source": [
    "generalization_degree = {\n",
    "    'Age': 2,\n",
    "    'Pregnancies': 3,\n",
    "    'Glucose': 3,\n",
    "    'BloodPressure': 2,\n",
    "    'SkinThickness': 2,\n",
    "    'Insulin': 3,\n",
    "    'BMI': 2,\n",
    "    'DiabetesPedigreeFunction': 2,\n",
    "    'Outcome': 2\n",
    "}\n",
    "\n",
    "generalization_function(diabetes_ds, generalization_degree)"
   ]
  },
  {
   "cell_type": "code",
   "execution_count": 15,
   "id": "6947d1c1",
   "metadata": {},
   "outputs": [
    {
     "data": {
      "text/plain": [
       "True"
      ]
     },
     "execution_count": 15,
     "metadata": {},
     "output_type": "execute_result"
    }
   ],
   "source": [
    "is_kanonymous(generalization_function(diabetes_ds, generalization_degree), 2)"
   ]
  },
  {
   "cell_type": "markdown",
   "id": "e0d1c9fb",
   "metadata": {
    "id": "e0d1c9fb"
   },
   "source": [
    "### Distributional Queries\n",
    "As a distribution query, we could try to understand how many individuals within the dataset have a BMI over 50:"
   ]
  },
  {
   "cell_type": "code",
   "execution_count": 16,
   "id": "37dc6c30",
   "metadata": {
    "id": "37dc6c30"
   },
   "outputs": [
    {
     "data": {
      "text/plain": [
       "32"
      ]
     },
     "execution_count": 16,
     "metadata": {},
     "output_type": "execute_result"
    }
   ],
   "source": [
    "diabetes_ds[diabetes_ds[\"Age\"] >= 60].shape[0]"
   ]
  },
  {
   "cell_type": "markdown",
   "id": "24b846ca",
   "metadata": {
    "id": "24b846ca"
   },
   "source": [
    "Another possible query: how many individuals have been pregnant more than five times?"
   ]
  },
  {
   "cell_type": "code",
   "execution_count": 17,
   "id": "17df9981",
   "metadata": {
    "id": "17df9981",
    "outputId": "6245f5ad-1ff2-49f2-ca2d-dede0b93437f"
   },
   "outputs": [
    {
     "data": {
      "text/plain": [
       "219"
      ]
     },
     "execution_count": 17,
     "metadata": {},
     "output_type": "execute_result"
    }
   ],
   "source": [
    "diabetes_ds[diabetes_ds[\"Pregnancies\"] > 5].shape[0]"
   ]
  },
  {
   "cell_type": "markdown",
   "id": "30781ef2",
   "metadata": {
    "id": "30781ef2"
   },
   "source": [
    "### DP: Laplace Mechanism\n",
    "Differential privacy is a framework, and we have different mechanisms to achieve differential privacy. One mechanism is the Laplace mechanism, which adds noise drawn from the Laplace distribution to the query."
   ]
  },
  {
   "cell_type": "code",
   "execution_count": 18,
   "id": "d0febd30",
   "metadata": {},
   "outputs": [
    {
     "data": {
      "text/plain": [
       "1"
      ]
     },
     "execution_count": 18,
     "metadata": {},
     "output_type": "execute_result"
    }
   ],
   "source": [
    "diabetes_ds[diabetes_ds[\"BMI\"] >= 60].shape[0]"
   ]
  },
  {
   "cell_type": "markdown",
   "id": "ed4e65b5",
   "metadata": {},
   "source": [
    "In the following example, I use a value for epsilon that is close to 1, so the output will not be too far from the original value:"
   ]
  },
  {
   "cell_type": "code",
   "execution_count": 19,
   "id": "3dadf1c6",
   "metadata": {
    "id": "3dadf1c6",
    "outputId": "a94a1344-c79f-47db-b835-27bf269ed0f9"
   },
   "outputs": [
    {
     "data": {
      "text/plain": [
       "4.01561100011624"
      ]
     },
     "execution_count": 19,
     "metadata": {},
     "output_type": "execute_result"
    }
   ],
   "source": [
    "# Laplace mechanism definition:\n",
    "# F(x) = f(x) + Lap(s/eps)\n",
    "# s: sensitivity\n",
    "# eps: privacy budget\n",
    "\n",
    "sensitivity = 1\n",
    "eps = 0.8\n",
    "\n",
    "diabetes_ds[diabetes_ds[\"BMI\"] >= 60].shape[0] + npr.laplace(scale=sensitivity/eps)"
   ]
  },
  {
   "cell_type": "markdown",
   "id": "37458486",
   "metadata": {},
   "source": [
    "By modifying the privacy budget, we can see how the final output changes. The smaller the epsilon, the more privacy we will have, implying that the final value will be further away from the original value."
   ]
  },
  {
   "cell_type": "code",
   "execution_count": 20,
   "id": "d6b56123",
   "metadata": {},
   "outputs": [
    {
     "data": {
      "text/plain": [
       "112.36110714442626"
      ]
     },
     "execution_count": 20,
     "metadata": {},
     "output_type": "execute_result"
    }
   ],
   "source": [
    "sensitivity = 1\n",
    "eps = 0.001\n",
    "\n",
    "diabetes_ds[diabetes_ds[\"BMI\"] >= 60].shape[0] + npr.laplace(scale=sensitivity/eps)"
   ]
  },
  {
   "cell_type": "markdown",
   "id": "8c9cab80",
   "metadata": {},
   "source": [
    "### Using Laplace for Histograms"
   ]
  },
  {
   "cell_type": "code",
   "execution_count": 21,
   "id": "275ca595",
   "metadata": {},
   "outputs": [],
   "source": [
    "# reset dataset\n",
    "\n",
    "diab_ds = pd.read_csv(\"output.csv\")"
   ]
  },
  {
   "cell_type": "code",
   "execution_count": 22,
   "id": "9ae7b312",
   "metadata": {},
   "outputs": [
    {
     "data": {
      "text/html": [
       "<div>\n",
       "<style scoped>\n",
       "    .dataframe tbody tr th:only-of-type {\n",
       "        vertical-align: middle;\n",
       "    }\n",
       "\n",
       "    .dataframe tbody tr th {\n",
       "        vertical-align: top;\n",
       "    }\n",
       "\n",
       "    .dataframe thead th {\n",
       "        text-align: right;\n",
       "    }\n",
       "</style>\n",
       "<table border=\"1\" class=\"dataframe\">\n",
       "  <thead>\n",
       "    <tr style=\"text-align: right;\">\n",
       "      <th></th>\n",
       "      <th>BloodPressure</th>\n",
       "    </tr>\n",
       "  </thead>\n",
       "  <tbody>\n",
       "    <tr>\n",
       "      <th>70</th>\n",
       "      <td>57</td>\n",
       "    </tr>\n",
       "    <tr>\n",
       "      <th>74</th>\n",
       "      <td>52</td>\n",
       "    </tr>\n",
       "    <tr>\n",
       "      <th>78</th>\n",
       "      <td>45</td>\n",
       "    </tr>\n",
       "    <tr>\n",
       "      <th>68</th>\n",
       "      <td>45</td>\n",
       "    </tr>\n",
       "    <tr>\n",
       "      <th>72</th>\n",
       "      <td>44</td>\n",
       "    </tr>\n",
       "    <tr>\n",
       "      <th>64</th>\n",
       "      <td>43</td>\n",
       "    </tr>\n",
       "    <tr>\n",
       "      <th>80</th>\n",
       "      <td>40</td>\n",
       "    </tr>\n",
       "    <tr>\n",
       "      <th>76</th>\n",
       "      <td>39</td>\n",
       "    </tr>\n",
       "    <tr>\n",
       "      <th>60</th>\n",
       "      <td>37</td>\n",
       "    </tr>\n",
       "    <tr>\n",
       "      <th>0</th>\n",
       "      <td>35</td>\n",
       "    </tr>\n",
       "    <tr>\n",
       "      <th>62</th>\n",
       "      <td>34</td>\n",
       "    </tr>\n",
       "  </tbody>\n",
       "</table>\n",
       "</div>"
      ],
      "text/plain": [
       "    BloodPressure\n",
       "70             57\n",
       "74             52\n",
       "78             45\n",
       "68             45\n",
       "72             44\n",
       "64             43\n",
       "80             40\n",
       "76             39\n",
       "60             37\n",
       "0              35\n",
       "62             34"
      ]
     },
     "execution_count": 22,
     "metadata": {},
     "output_type": "execute_result"
    }
   ],
   "source": [
    "# choose variable glucose and count how many individuals have the same values\n",
    "hist_diabetes = diab_ds[\"BloodPressure\"].value_counts()\n",
    "\n",
    "# display\n",
    "hist_diabetes.to_frame().head(11)"
   ]
  },
  {
   "cell_type": "markdown",
   "id": "6186fd4a",
   "metadata": {},
   "source": [
    "I can use the Laplace mechanism to add noise to the histogram:"
   ]
  },
  {
   "cell_type": "code",
   "execution_count": 23,
   "id": "0eaebab4",
   "metadata": {},
   "outputs": [
    {
     "data": {
      "text/html": [
       "<div>\n",
       "<style scoped>\n",
       "    .dataframe tbody tr th:only-of-type {\n",
       "        vertical-align: middle;\n",
       "    }\n",
       "\n",
       "    .dataframe tbody tr th {\n",
       "        vertical-align: top;\n",
       "    }\n",
       "\n",
       "    .dataframe thead th {\n",
       "        text-align: right;\n",
       "    }\n",
       "</style>\n",
       "<table border=\"1\" class=\"dataframe\">\n",
       "  <thead>\n",
       "    <tr style=\"text-align: right;\">\n",
       "      <th></th>\n",
       "      <th>BloodPressure</th>\n",
       "    </tr>\n",
       "  </thead>\n",
       "  <tbody>\n",
       "    <tr>\n",
       "      <th>70</th>\n",
       "      <td>67.141374</td>\n",
       "    </tr>\n",
       "    <tr>\n",
       "      <th>74</th>\n",
       "      <td>173.475900</td>\n",
       "    </tr>\n",
       "    <tr>\n",
       "      <th>78</th>\n",
       "      <td>31.171421</td>\n",
       "    </tr>\n",
       "    <tr>\n",
       "      <th>68</th>\n",
       "      <td>78.686436</td>\n",
       "    </tr>\n",
       "    <tr>\n",
       "      <th>72</th>\n",
       "      <td>-1.391665</td>\n",
       "    </tr>\n",
       "  </tbody>\n",
       "</table>\n",
       "</div>"
      ],
      "text/plain": [
       "    BloodPressure\n",
       "70      67.141374\n",
       "74     173.475900\n",
       "78      31.171421\n",
       "68      78.686436\n",
       "72      -1.391665"
      ]
     },
     "execution_count": 23,
     "metadata": {},
     "output_type": "execute_result"
    }
   ],
   "source": [
    "sensitivity = 1\n",
    "eps = 0.03\n",
    "\n",
    "lap_noise = lambda x: x + npr.laplace(scale=sensitivity/eps)\n",
    "\n",
    "hist_noise_added = hist_diabetes.apply(lap_noise)\n",
    "\n",
    "# noisy table\n",
    "hist_noise_added.to_frame().head()"
   ]
  },
  {
   "cell_type": "markdown",
   "id": "d494b364",
   "metadata": {},
   "source": [
    "### Using Laplace for Contingency tables"
   ]
  },
  {
   "cell_type": "markdown",
   "id": "ac8bc7f8",
   "metadata": {},
   "source": [
    "I can use multiple variables instead of the one we used previously (BloodPressure):"
   ]
  },
  {
   "cell_type": "code",
   "execution_count": 24,
   "id": "150bd771",
   "metadata": {},
   "outputs": [],
   "source": [
    "# reset to my custom dataset\n",
    "diab_ds = pd.read_csv(\"output.csv\")"
   ]
  },
  {
   "cell_type": "code",
   "execution_count": 25,
   "id": "91e0e080",
   "metadata": {},
   "outputs": [
    {
     "data": {
      "text/html": [
       "<div>\n",
       "<style scoped>\n",
       "    .dataframe tbody tr th:only-of-type {\n",
       "        vertical-align: middle;\n",
       "    }\n",
       "\n",
       "    .dataframe tbody tr th {\n",
       "        vertical-align: top;\n",
       "    }\n",
       "\n",
       "    .dataframe thead th {\n",
       "        text-align: right;\n",
       "    }\n",
       "</style>\n",
       "<table border=\"1\" class=\"dataframe\">\n",
       "  <thead>\n",
       "    <tr style=\"text-align: right;\">\n",
       "      <th></th>\n",
       "      <th>Outcome</th>\n",
       "      <th>0</th>\n",
       "      <th>1</th>\n",
       "    </tr>\n",
       "    <tr>\n",
       "      <th>Job</th>\n",
       "      <th>Age</th>\n",
       "      <th></th>\n",
       "      <th></th>\n",
       "    </tr>\n",
       "  </thead>\n",
       "  <tbody>\n",
       "    <tr>\n",
       "      <th>Accommodation manager</th>\n",
       "      <th>31</th>\n",
       "      <td>1</td>\n",
       "      <td>0</td>\n",
       "    </tr>\n",
       "    <tr>\n",
       "      <th>Accountant, chartered</th>\n",
       "      <th>52</th>\n",
       "      <td>0</td>\n",
       "      <td>1</td>\n",
       "    </tr>\n",
       "    <tr>\n",
       "      <th rowspan=\"2\" valign=\"top\">Accountant, chartered public finance</th>\n",
       "      <th>40</th>\n",
       "      <td>1</td>\n",
       "      <td>0</td>\n",
       "    </tr>\n",
       "    <tr>\n",
       "      <th>51</th>\n",
       "      <td>1</td>\n",
       "      <td>0</td>\n",
       "    </tr>\n",
       "    <tr>\n",
       "      <th>Accounting technician</th>\n",
       "      <th>26</th>\n",
       "      <td>1</td>\n",
       "      <td>0</td>\n",
       "    </tr>\n",
       "    <tr>\n",
       "      <th>...</th>\n",
       "      <th>...</th>\n",
       "      <td>...</td>\n",
       "      <td>...</td>\n",
       "    </tr>\n",
       "    <tr>\n",
       "      <th>Water quality scientist</th>\n",
       "      <th>25</th>\n",
       "      <td>1</td>\n",
       "      <td>0</td>\n",
       "    </tr>\n",
       "    <tr>\n",
       "      <th>Wellsite geologist</th>\n",
       "      <th>21</th>\n",
       "      <td>1</td>\n",
       "      <td>0</td>\n",
       "    </tr>\n",
       "    <tr>\n",
       "      <th rowspan=\"2\" valign=\"top\">Writer</th>\n",
       "      <th>31</th>\n",
       "      <td>1</td>\n",
       "      <td>1</td>\n",
       "    </tr>\n",
       "    <tr>\n",
       "      <th>32</th>\n",
       "      <td>0</td>\n",
       "      <td>1</td>\n",
       "    </tr>\n",
       "    <tr>\n",
       "      <th>Youth worker</th>\n",
       "      <th>41</th>\n",
       "      <td>1</td>\n",
       "      <td>0</td>\n",
       "    </tr>\n",
       "  </tbody>\n",
       "</table>\n",
       "<p>744 rows × 2 columns</p>\n",
       "</div>"
      ],
      "text/plain": [
       "Outcome                                   0  1\n",
       "Job                                  Age      \n",
       "Accommodation manager                31   1  0\n",
       "Accountant, chartered                52   0  1\n",
       "Accountant, chartered public finance 40   1  0\n",
       "                                     51   1  0\n",
       "Accounting technician                26   1  0\n",
       "...                                      .. ..\n",
       "Water quality scientist              25   1  0\n",
       "Wellsite geologist                   21   1  0\n",
       "Writer                               31   1  1\n",
       "                                     32   0  1\n",
       "Youth worker                         41   1  0\n",
       "\n",
       "[744 rows x 2 columns]"
      ]
     },
     "execution_count": 25,
     "metadata": {},
     "output_type": "execute_result"
    }
   ],
   "source": [
    "contingency_table = pd.crosstab([diab_ds[\"Job\"], diab_ds[\"Age\"]], diab_ds['Outcome'])\n",
    "\n",
    "# display contingency table\n",
    "contingency_table"
   ]
  },
  {
   "cell_type": "markdown",
   "id": "dbe8c414",
   "metadata": {},
   "source": [
    "I'll add noise to the contingency table:"
   ]
  },
  {
   "cell_type": "code",
   "execution_count": 26,
   "id": "c33e674c",
   "metadata": {},
   "outputs": [
    {
     "data": {
      "text/html": [
       "<div>\n",
       "<style scoped>\n",
       "    .dataframe tbody tr th:only-of-type {\n",
       "        vertical-align: middle;\n",
       "    }\n",
       "\n",
       "    .dataframe tbody tr th {\n",
       "        vertical-align: top;\n",
       "    }\n",
       "\n",
       "    .dataframe thead th {\n",
       "        text-align: right;\n",
       "    }\n",
       "</style>\n",
       "<table border=\"1\" class=\"dataframe\">\n",
       "  <thead>\n",
       "    <tr style=\"text-align: right;\">\n",
       "      <th></th>\n",
       "      <th>Outcome</th>\n",
       "      <th>0</th>\n",
       "      <th>1</th>\n",
       "    </tr>\n",
       "    <tr>\n",
       "      <th>Job</th>\n",
       "      <th>Age</th>\n",
       "      <th></th>\n",
       "      <th></th>\n",
       "    </tr>\n",
       "  </thead>\n",
       "  <tbody>\n",
       "    <tr>\n",
       "      <th>Accommodation manager</th>\n",
       "      <th>31</th>\n",
       "      <td>0.996547</td>\n",
       "      <td>-0.018223</td>\n",
       "    </tr>\n",
       "    <tr>\n",
       "      <th>Accountant, chartered</th>\n",
       "      <th>52</th>\n",
       "      <td>-0.003453</td>\n",
       "      <td>0.981777</td>\n",
       "    </tr>\n",
       "    <tr>\n",
       "      <th rowspan=\"2\" valign=\"top\">Accountant, chartered public finance</th>\n",
       "      <th>40</th>\n",
       "      <td>0.996547</td>\n",
       "      <td>-0.018223</td>\n",
       "    </tr>\n",
       "    <tr>\n",
       "      <th>51</th>\n",
       "      <td>0.996547</td>\n",
       "      <td>-0.018223</td>\n",
       "    </tr>\n",
       "    <tr>\n",
       "      <th>Accounting technician</th>\n",
       "      <th>26</th>\n",
       "      <td>0.996547</td>\n",
       "      <td>-0.018223</td>\n",
       "    </tr>\n",
       "    <tr>\n",
       "      <th>...</th>\n",
       "      <th>...</th>\n",
       "      <td>...</td>\n",
       "      <td>...</td>\n",
       "    </tr>\n",
       "    <tr>\n",
       "      <th>Water quality scientist</th>\n",
       "      <th>25</th>\n",
       "      <td>0.996547</td>\n",
       "      <td>-0.018223</td>\n",
       "    </tr>\n",
       "    <tr>\n",
       "      <th>Wellsite geologist</th>\n",
       "      <th>21</th>\n",
       "      <td>0.996547</td>\n",
       "      <td>-0.018223</td>\n",
       "    </tr>\n",
       "    <tr>\n",
       "      <th rowspan=\"2\" valign=\"top\">Writer</th>\n",
       "      <th>31</th>\n",
       "      <td>0.996547</td>\n",
       "      <td>0.981777</td>\n",
       "    </tr>\n",
       "    <tr>\n",
       "      <th>32</th>\n",
       "      <td>-0.003453</td>\n",
       "      <td>0.981777</td>\n",
       "    </tr>\n",
       "    <tr>\n",
       "      <th>Youth worker</th>\n",
       "      <th>41</th>\n",
       "      <td>0.996547</td>\n",
       "      <td>-0.018223</td>\n",
       "    </tr>\n",
       "  </tbody>\n",
       "</table>\n",
       "<p>744 rows × 2 columns</p>\n",
       "</div>"
      ],
      "text/plain": [
       "Outcome                                          0         1\n",
       "Job                                  Age                    \n",
       "Accommodation manager                31   0.996547 -0.018223\n",
       "Accountant, chartered                52  -0.003453  0.981777\n",
       "Accountant, chartered public finance 40   0.996547 -0.018223\n",
       "                                     51   0.996547 -0.018223\n",
       "Accounting technician                26   0.996547 -0.018223\n",
       "...                                            ...       ...\n",
       "Water quality scientist              25   0.996547 -0.018223\n",
       "Wellsite geologist                   21   0.996547 -0.018223\n",
       "Writer                               31   0.996547  0.981777\n",
       "                                     32  -0.003453  0.981777\n",
       "Youth worker                         41   0.996547 -0.018223\n",
       "\n",
       "[744 rows x 2 columns]"
      ]
     },
     "execution_count": 26,
     "metadata": {},
     "output_type": "execute_result"
    }
   ],
   "source": [
    "# define privacy budget which is large\n",
    "eps = 50\n",
    "\n",
    "noisy_contingency_table = contingency_table.apply(lap_noise)\n",
    "\n",
    "# display\n",
    "noisy_contingency_table"
   ]
  },
  {
   "cell_type": "code",
   "execution_count": 27,
   "id": "2b71d831",
   "metadata": {},
   "outputs": [
    {
     "data": {
      "text/html": [
       "<div>\n",
       "<style scoped>\n",
       "    .dataframe tbody tr th:only-of-type {\n",
       "        vertical-align: middle;\n",
       "    }\n",
       "\n",
       "    .dataframe tbody tr th {\n",
       "        vertical-align: top;\n",
       "    }\n",
       "\n",
       "    .dataframe thead th {\n",
       "        text-align: right;\n",
       "    }\n",
       "</style>\n",
       "<table border=\"1\" class=\"dataframe\">\n",
       "  <thead>\n",
       "    <tr style=\"text-align: right;\">\n",
       "      <th></th>\n",
       "      <th>Outcome</th>\n",
       "      <th>0</th>\n",
       "      <th>1</th>\n",
       "    </tr>\n",
       "    <tr>\n",
       "      <th>Job</th>\n",
       "      <th>Age</th>\n",
       "      <th></th>\n",
       "      <th></th>\n",
       "    </tr>\n",
       "  </thead>\n",
       "  <tbody>\n",
       "    <tr>\n",
       "      <th>Accommodation manager</th>\n",
       "      <th>31</th>\n",
       "      <td>5295.641254</td>\n",
       "      <td>3268.614826</td>\n",
       "    </tr>\n",
       "    <tr>\n",
       "      <th>Accountant, chartered</th>\n",
       "      <th>52</th>\n",
       "      <td>5294.641254</td>\n",
       "      <td>3269.614826</td>\n",
       "    </tr>\n",
       "    <tr>\n",
       "      <th rowspan=\"2\" valign=\"top\">Accountant, chartered public finance</th>\n",
       "      <th>40</th>\n",
       "      <td>5295.641254</td>\n",
       "      <td>3268.614826</td>\n",
       "    </tr>\n",
       "    <tr>\n",
       "      <th>51</th>\n",
       "      <td>5295.641254</td>\n",
       "      <td>3268.614826</td>\n",
       "    </tr>\n",
       "    <tr>\n",
       "      <th>Accounting technician</th>\n",
       "      <th>26</th>\n",
       "      <td>5295.641254</td>\n",
       "      <td>3268.614826</td>\n",
       "    </tr>\n",
       "    <tr>\n",
       "      <th>...</th>\n",
       "      <th>...</th>\n",
       "      <td>...</td>\n",
       "      <td>...</td>\n",
       "    </tr>\n",
       "    <tr>\n",
       "      <th>Water quality scientist</th>\n",
       "      <th>25</th>\n",
       "      <td>5295.641254</td>\n",
       "      <td>3268.614826</td>\n",
       "    </tr>\n",
       "    <tr>\n",
       "      <th>Wellsite geologist</th>\n",
       "      <th>21</th>\n",
       "      <td>5295.641254</td>\n",
       "      <td>3268.614826</td>\n",
       "    </tr>\n",
       "    <tr>\n",
       "      <th rowspan=\"2\" valign=\"top\">Writer</th>\n",
       "      <th>31</th>\n",
       "      <td>5295.641254</td>\n",
       "      <td>3269.614826</td>\n",
       "    </tr>\n",
       "    <tr>\n",
       "      <th>32</th>\n",
       "      <td>5294.641254</td>\n",
       "      <td>3269.614826</td>\n",
       "    </tr>\n",
       "    <tr>\n",
       "      <th>Youth worker</th>\n",
       "      <th>41</th>\n",
       "      <td>5295.641254</td>\n",
       "      <td>3268.614826</td>\n",
       "    </tr>\n",
       "  </tbody>\n",
       "</table>\n",
       "<p>744 rows × 2 columns</p>\n",
       "</div>"
      ],
      "text/plain": [
       "Outcome                                             0            1\n",
       "Job                                  Age                          \n",
       "Accommodation manager                31   5295.641254  3268.614826\n",
       "Accountant, chartered                52   5294.641254  3269.614826\n",
       "Accountant, chartered public finance 40   5295.641254  3268.614826\n",
       "                                     51   5295.641254  3268.614826\n",
       "Accounting technician                26   5295.641254  3268.614826\n",
       "...                                               ...          ...\n",
       "Water quality scientist              25   5295.641254  3268.614826\n",
       "Wellsite geologist                   21   5295.641254  3268.614826\n",
       "Writer                               31   5295.641254  3269.614826\n",
       "                                     32   5294.641254  3269.614826\n",
       "Youth worker                         41   5295.641254  3268.614826\n",
       "\n",
       "[744 rows x 2 columns]"
      ]
     },
     "execution_count": 27,
     "metadata": {},
     "output_type": "execute_result"
    }
   ],
   "source": [
    "# privacy budget chosen to be small\n",
    "eps = 0.0005 \n",
    "\n",
    "noisy_contingency_table = contingency_table.apply(lap_noise)\n",
    "\n",
    "# display\n",
    "noisy_contingency_table"
   ]
  },
  {
   "cell_type": "markdown",
   "id": "34041829",
   "metadata": {},
   "source": [
    "It can be observed that, when the chosen value for epsilon is small, the output value changes drastically and is very far from the original value. This creates issues for doctors, who need precise data to decide which operation must be performed on the patient."
   ]
  }
 ],
 "metadata": {
  "colab": {
   "collapsed_sections": [
    "a3e29275",
    "ae2006a4",
    "65311939",
    "cefbf726",
    "31ebc686",
    "718c85f4",
    "acd9f2e6",
    "e0d1c9fb",
    "30781ef2",
    "c078b59f",
    "62ab1526"
   ],
   "provenance": []
  },
  "kernelspec": {
   "display_name": "Python 3 (ipykernel)",
   "language": "python",
   "name": "python3"
  },
  "language_info": {
   "codemirror_mode": {
    "name": "ipython",
    "version": 3
   },
   "file_extension": ".py",
   "mimetype": "text/x-python",
   "name": "python",
   "nbconvert_exporter": "python",
   "pygments_lexer": "ipython3",
   "version": "3.9.13"
  }
 },
 "nbformat": 4,
 "nbformat_minor": 5
}
